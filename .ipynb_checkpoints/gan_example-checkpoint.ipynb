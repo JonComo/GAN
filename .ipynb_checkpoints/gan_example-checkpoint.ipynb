{
 "cells": [
  {
   "cell_type": "code",
   "execution_count": 1,
   "metadata": {
    "collapsed": true
   },
   "outputs": [],
   "source": [
    "import tensorflow as tf"
   ]
  },
  {
   "cell_type": "code",
   "execution_count": 2,
   "metadata": {
    "collapsed": true
   },
   "outputs": [],
   "source": [
    "%matplotlib inline\n",
    "from matplotlib import pyplot as plt\n",
    "import numpy as np\n",
    "from IPython.display import clear_output"
   ]
  },
  {
   "cell_type": "code",
   "execution_count": 20,
   "metadata": {
    "collapsed": false
   },
   "outputs": [],
   "source": [
    "XDIM = 1\n",
    "HDIM = 4\n",
    "YDIM = 1\n",
    "\n",
    "if 'sess' in globals():\n",
    "    sess.close()\n",
    "    \n",
    "sess = tf.InteractiveSession()\n",
    "\n",
    "def weight(shape):\n",
    "    return tf.Variable(tf.random_normal(shape))\n",
    "\n",
    "def bias(shape):\n",
    "    return tf.Variable(tf.constant(0.1, shape=shape))\n",
    "\n",
    "\n",
    "is_real = tf.placeholder(tf.int32, shape=[], name=\"is_real\")\n",
    "\n",
    "xreal = tf.placeholder(tf.float32, shape=[1, 1], name=\"xreal\")\n",
    "\n",
    "# generator\n",
    "\n",
    "z = tf.placeholder(tf.float32, shape=[1, 1], name=\"z\")\n",
    "\n",
    "gW1 = weight([1, 1])\n",
    "gb1 = bias([1])\n",
    "\n",
    "gx = tf.matmul(z, gW1) + gb1\n",
    "\n",
    "# net\n",
    "\n",
    "x = tf.cond(is_real > 0, lambda: xreal, lambda: gx, name=\"x\")\n",
    "\n",
    "# discriminator\n",
    "\n",
    "W1 = weight([1, 4])\n",
    "b1 = bias([4])\n",
    "\n",
    "h1 = tf.nn.tanh(tf.matmul(x, W1) + b1)\n",
    "\n",
    "W2 = weight([4, 1])\n",
    "b2 = bias([1])\n",
    "y = tf.nn.sigmoid(tf.matmul(h1, W2) + b2)\n",
    "\n",
    "t = tf.placeholder(tf.float32, shape=[1, 1], name=\"t\")\n",
    "\n",
    "cost_discrim = tf.square(y - t)\n",
    "\n",
    "cost_gen = tf.square(y - 1)\n",
    "\n",
    "train_discrim = tf.train.GradientDescentOptimizer(0.02).minimize(cost_discrim, var_list=[W1, b1, W2, b2])\n",
    "train_gen = tf.train.GradientDescentOptimizer(0.02).minimize(cost_gen, var_list=[gW1, gb1])\n",
    "\n",
    "sess.run(tf.initialize_all_variables())"
   ]
  },
  {
   "cell_type": "code",
   "execution_count": 21,
   "metadata": {
    "collapsed": true
   },
   "outputs": [],
   "source": [
    "def real_data():\n",
    "    return np.random.randn() * .2 -.5"
   ]
  },
  {
   "cell_type": "code",
   "execution_count": 22,
   "metadata": {
    "collapsed": false
   },
   "outputs": [
    {
     "data": {
      "image/png": "[encoded data removed]",
      "text/plain": [
       "<matplotlib.figure.Figure at 0x10620d860>"
      ]
     },
     "metadata": {},
     "output_type": "display_data"
    }
   ],
   "source": [
    "# graph y as fn of x\n",
    "\n",
    "def vis():\n",
    "    domain = np.linspace(-2, 2, 100)\n",
    "    ys = [y.eval(feed_dict={x: [[xx]], is_real: 1})[0, 0] for xx in domain]\n",
    "    \n",
    "    real = [real_data() for __ in range(30)]\n",
    "    fake = [gx.eval(feed_dict={z: [[np.random.random_sample()]], is_real: 0}) for __ in range(len(real))]\n",
    "    \n",
    "    cost_discrims = [cost_discrim.eval(feed_dict={x: [[xx]], t: [[1]], is_real: 1})[0, 0] for xx in domain]\n",
    "    \n",
    "    pl_disc, = plt.plot(domain, ys, label='y')\n",
    "    pl_cost, = plt.plot(domain, cost_discrims, label='cost')\n",
    "    plt.scatter(real, np.zeros(len(real)), c='b', alpha=0.2)\n",
    "    plt.scatter(fake, np.zeros(len(real)), c='r', alpha=0.2)\n",
    "    plt.legend(handles=[pl_disc, pl_cost])\n",
    "    \n",
    "\n",
    "    \n",
    "vis()"
   ]
  },
  {
   "cell_type": "code",
   "execution_count": 34,
   "metadata": {
    "collapsed": false
   },
   "outputs": [
    {
     "data": {
      "image/png": "[encoded data removed]",
      "text/plain": [
       "<matplotlib.figure.Figure at 0x11724f1d0>"
      ]
     },
     "metadata": {},
     "output_type": "display_data"
    }
   ],
   "source": [
    "# train on real data\n",
    "\n",
    "for i in range(800):\n",
    "    # real datapoint\n",
    "    _x = [[real_data()]]\n",
    "    \n",
    "    should_train_discrim = np.random.randint(0, 2)\n",
    "    \n",
    "    if should_train_discrim:\n",
    "        _real = np.random.randint(0, 2)\n",
    "        sess.run(train_discrim, feed_dict={xreal: _x, t: [[_real]], z: np.random.random_sample([1, 1]), is_real: _real})\n",
    "    else:\n",
    "        # train gen\n",
    "        sess.run(train_gen, feed_dict={xreal: _x, t: [[_real]], z: np.random.random_sample([1, 1]), is_real: 0})\n",
    "        \n",
    "    if i % 50 == 0:\n",
    "        clear_output(wait=True)\n",
    "        vis()\n",
    "        plt.show()"
   ]
  },
  {
   "cell_type": "code",
   "execution_count": null,
   "metadata": {
    "collapsed": true
   },
   "outputs": [],
   "source": []
  },
  {
   "cell_type": "code",
   "execution_count": null,
   "metadata": {
    "collapsed": true
   },
   "outputs": [],
   "source": []
  },
  {
   "cell_type": "code",
   "execution_count": null,
   "metadata": {
    "collapsed": true
   },
   "outputs": [],
   "source": []
  },
  {
   "cell_type": "code",
   "execution_count": null,
   "metadata": {
    "collapsed": true
   },
   "outputs": [],
   "source": []
  },
  {
   "cell_type": "code",
   "execution_count": null,
   "metadata": {
    "collapsed": true
   },
   "outputs": [],
   "source": []
  },
  {
   "cell_type": "code",
   "execution_count": null,
   "metadata": {
    "collapsed": true
   },
   "outputs": [],
   "source": []
  }
 ],
 "metadata": {
  "kernelspec": {
   "display_name": "Python 3",
   "language": "python",
   "name": "python3"
  },
  "language_info": {
   "codemirror_mode": {
    "name": "ipython",
    "version": 3
   },
   "file_extension": ".py",
   "mimetype": "text/x-python",
   "name": "python",
   "nbconvert_exporter": "python",
   "pygments_lexer": "ipython3",
   "version": "3.4.5"
  }
 },
 "nbformat": 4,
 "nbformat_minor": 0
}
